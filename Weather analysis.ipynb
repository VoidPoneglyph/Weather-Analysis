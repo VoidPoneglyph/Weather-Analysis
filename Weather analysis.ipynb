{
  "metadata": {
    "language_info": {
      "codemirror_mode": {
        "name": "python",
        "version": 3
      },
      "file_extension": ".py",
      "mimetype": "text/x-python",
      "name": "python",
      "nbconvert_exporter": "python",
      "pygments_lexer": "ipython3",
      "version": "3.8"
    },
    "kernelspec": {
      "name": "python",
      "display_name": "Python (Pyodide)",
      "language": "python"
    }
  },
  "nbformat_minor": 4,
  "nbformat": 4,
  "cells": [
    {
      "cell_type": "code",
      "source": "",
      "metadata": {},
      "execution_count": null,
      "outputs": []
    },
    {
      "cell_type": "code",
      "source": "import numpy as np\nimport pandas as pd\nimport matplotlib.pyplot as plt\nfrom sklearn.model_selection import train_test_split\nfrom sklearn.metrics import accuracy_score, classification_report, confusion_matrix\nfrom sklearn.preprocessing import StandardScaler\nfrom sklearn.neural_network import MLPClassifier\nfrom sklearn.model_selection import GridSearchCV",
      "metadata": {
        "trusted": true
      },
      "execution_count": 1,
      "outputs": []
    },
    {
      "cell_type": "code",
      "source": "df = pd.read_csv(\"weatherperth.csv\")",
      "metadata": {
        "trusted": true
      },
      "execution_count": 2,
      "outputs": []
    },
    {
      "cell_type": "raw",
      "source": "df.head()",
      "metadata": {}
    },
    {
      "cell_type": "code",
      "source": "exclude = [\"Date\",\"Location\", \"RISK_MM\"]\nfor attributes in exclude:\n    del df[attributes]",
      "metadata": {
        "trusted": true
      },
      "execution_count": 3,
      "outputs": []
    },
    {
      "cell_type": "code",
      "source": "df.head()",
      "metadata": {
        "trusted": true
      },
      "execution_count": 5,
      "outputs": [
        {
          "execution_count": 5,
          "output_type": "execute_result",
          "data": {
            "text/plain": "   MinTemp  MaxTemp  Rainfall  Evaporation  Sunshine WindGustDir  \\\n0      2.7     18.8       0.0          0.8       9.1         ENE   \n1      6.4     20.7       0.0          1.8       7.0          NE   \n2      6.5     19.9       0.4          2.2       7.3          NE   \n3      9.5     19.2       1.8          1.2       4.7           W   \n4      9.5     16.4       1.8          1.4       4.9         WSW   \n\n   WindGustSpeed WindDir9am WindDir3pm  WindSpeed9am  ...  Humidity9am  \\\n0           20.0        NaN          E             0  ...         97.0   \n1           22.0        ESE        ENE             6  ...         80.0   \n2           31.0        NaN        WNW             0  ...         84.0   \n3           26.0        NNE        NNW            11  ...         93.0   \n4           44.0          W         SW            13  ...         69.0   \n\n   Humidity3pm  Pressure9am  Pressure3pm  Cloud9am  Cloud3pm  Temp9am  \\\n0         53.0       1027.6       1024.5       2.0       3.0      8.5   \n1         39.0       1024.1       1019.0       0.0       6.0     11.1   \n2         71.0       1016.8       1015.6       1.0       3.0     12.1   \n3         73.0       1019.3       1018.4       6.0       6.0     13.2   \n4         57.0       1020.4       1022.1       7.0       5.0     15.9   \n\n   Temp3pm  RainToday RainTomorrow  \n0     18.1         No           No  \n1     19.7         No           No  \n2     17.7         No          Yes  \n3     17.7        Yes          Yes  \n4     16.0        Yes          Yes  \n\n[5 rows x 21 columns]",
            "text/html": "<div>\n<style scoped>\n    .dataframe tbody tr th:only-of-type {\n        vertical-align: middle;\n    }\n\n    .dataframe tbody tr th {\n        vertical-align: top;\n    }\n\n    .dataframe thead th {\n        text-align: right;\n    }\n</style>\n<table border=\"1\" class=\"dataframe\">\n  <thead>\n    <tr style=\"text-align: right;\">\n      <th></th>\n      <th>MinTemp</th>\n      <th>MaxTemp</th>\n      <th>Rainfall</th>\n      <th>Evaporation</th>\n      <th>Sunshine</th>\n      <th>WindGustDir</th>\n      <th>WindGustSpeed</th>\n      <th>WindDir9am</th>\n      <th>WindDir3pm</th>\n      <th>WindSpeed9am</th>\n      <th>...</th>\n      <th>Humidity9am</th>\n      <th>Humidity3pm</th>\n      <th>Pressure9am</th>\n      <th>Pressure3pm</th>\n      <th>Cloud9am</th>\n      <th>Cloud3pm</th>\n      <th>Temp9am</th>\n      <th>Temp3pm</th>\n      <th>RainToday</th>\n      <th>RainTomorrow</th>\n    </tr>\n  </thead>\n  <tbody>\n    <tr>\n      <th>0</th>\n      <td>2.7</td>\n      <td>18.8</td>\n      <td>0.0</td>\n      <td>0.8</td>\n      <td>9.1</td>\n      <td>ENE</td>\n      <td>20.0</td>\n      <td>NaN</td>\n      <td>E</td>\n      <td>0</td>\n      <td>...</td>\n      <td>97.0</td>\n      <td>53.0</td>\n      <td>1027.6</td>\n      <td>1024.5</td>\n      <td>2.0</td>\n      <td>3.0</td>\n      <td>8.5</td>\n      <td>18.1</td>\n      <td>No</td>\n      <td>No</td>\n    </tr>\n    <tr>\n      <th>1</th>\n      <td>6.4</td>\n      <td>20.7</td>\n      <td>0.0</td>\n      <td>1.8</td>\n      <td>7.0</td>\n      <td>NE</td>\n      <td>22.0</td>\n      <td>ESE</td>\n      <td>ENE</td>\n      <td>6</td>\n      <td>...</td>\n      <td>80.0</td>\n      <td>39.0</td>\n      <td>1024.1</td>\n      <td>1019.0</td>\n      <td>0.0</td>\n      <td>6.0</td>\n      <td>11.1</td>\n      <td>19.7</td>\n      <td>No</td>\n      <td>No</td>\n    </tr>\n    <tr>\n      <th>2</th>\n      <td>6.5</td>\n      <td>19.9</td>\n      <td>0.4</td>\n      <td>2.2</td>\n      <td>7.3</td>\n      <td>NE</td>\n      <td>31.0</td>\n      <td>NaN</td>\n      <td>WNW</td>\n      <td>0</td>\n      <td>...</td>\n      <td>84.0</td>\n      <td>71.0</td>\n      <td>1016.8</td>\n      <td>1015.6</td>\n      <td>1.0</td>\n      <td>3.0</td>\n      <td>12.1</td>\n      <td>17.7</td>\n      <td>No</td>\n      <td>Yes</td>\n    </tr>\n    <tr>\n      <th>3</th>\n      <td>9.5</td>\n      <td>19.2</td>\n      <td>1.8</td>\n      <td>1.2</td>\n      <td>4.7</td>\n      <td>W</td>\n      <td>26.0</td>\n      <td>NNE</td>\n      <td>NNW</td>\n      <td>11</td>\n      <td>...</td>\n      <td>93.0</td>\n      <td>73.0</td>\n      <td>1019.3</td>\n      <td>1018.4</td>\n      <td>6.0</td>\n      <td>6.0</td>\n      <td>13.2</td>\n      <td>17.7</td>\n      <td>Yes</td>\n      <td>Yes</td>\n    </tr>\n    <tr>\n      <th>4</th>\n      <td>9.5</td>\n      <td>16.4</td>\n      <td>1.8</td>\n      <td>1.4</td>\n      <td>4.9</td>\n      <td>WSW</td>\n      <td>44.0</td>\n      <td>W</td>\n      <td>SW</td>\n      <td>13</td>\n      <td>...</td>\n      <td>69.0</td>\n      <td>57.0</td>\n      <td>1020.4</td>\n      <td>1022.1</td>\n      <td>7.0</td>\n      <td>5.0</td>\n      <td>15.9</td>\n      <td>16.0</td>\n      <td>Yes</td>\n      <td>Yes</td>\n    </tr>\n  </tbody>\n</table>\n<p>5 rows × 21 columns</p>\n</div>"
          },
          "metadata": {}
        }
      ]
    },
    {
      "cell_type": "code",
      "source": "print(df.iloc[214,:])",
      "metadata": {
        "trusted": true
      },
      "execution_count": 6,
      "outputs": [
        {
          "name": "stdout",
          "text": "MinTemp            23.3\nMaxTemp            36.0\nRainfall            0.0\nEvaporation         5.6\nSunshine            NaN\nWindGustDir          SW\nWindGustSpeed      31.0\nWindDir9am            E\nWindDir3pm           SE\nWindSpeed9am         15\nWindSpeed3pm        6.0\nHumidity9am        63.0\nHumidity3pm        42.0\nPressure9am      1008.6\nPressure3pm      1005.9\nCloud9am            3.0\nCloud3pm            5.0\nTemp9am            26.6\nTemp3pm            34.8\nRainToday            No\nRainTomorrow         No\nName: 214, dtype: object\n",
          "output_type": "stream"
        }
      ]
    },
    {
      "cell_type": "code",
      "source": "df = df.dropna()",
      "metadata": {
        "trusted": true
      },
      "execution_count": 4,
      "outputs": []
    },
    {
      "cell_type": "code",
      "source": "print(df.iloc[214,:])",
      "metadata": {
        "trusted": true
      },
      "execution_count": 14,
      "outputs": [
        {
          "name": "stdout",
          "text": "MinTemp            16.3\nMaxTemp            30.2\nRainfall            0.0\nEvaporation         9.0\nSunshine           12.5\nWindGustDir           S\nWindGustSpeed      44.0\nWindDir9am           SE\nWindDir3pm          SSW\nWindSpeed9am         13\nWindSpeed3pm       11.0\nHumidity9am        61.0\nHumidity3pm        35.0\nPressure9am      1013.0\nPressure3pm      1009.8\nCloud9am            1.0\nCloud3pm            1.0\nTemp9am            19.7\nTemp3pm            30.1\nRainToday            No\nRainTomorrow         No\nName: 231, dtype: object\n",
          "output_type": "stream"
        }
      ]
    },
    {
      "cell_type": "code",
      "source": "Mapping_array = [\"RainToday\", \"RainTomorrow\"]\nfor i in Mapping_array:\n    if i in df.columns:\n        df[i] = df[i].map({\n        \"Yes\" : 1,\n        \"No\" : 0,\n    })\n    else: print(\"Column {i} doesn't exist\")\ndf.head()",
      "metadata": {
        "trusted": true
      },
      "execution_count": 5,
      "outputs": [
        {
          "execution_count": 5,
          "output_type": "execute_result",
          "data": {
            "text/plain": "   MinTemp  MaxTemp  Rainfall  Evaporation  Sunshine WindGustDir  \\\n1      6.4     20.7       0.0          1.8       7.0          NE   \n3      9.5     19.2       1.8          1.2       4.7           W   \n4      9.5     16.4       1.8          1.4       4.9         WSW   \n5      0.7     15.9       6.8          2.4       9.3         NNE   \n6      0.7     18.3       0.0          0.8       9.3           N   \n\n   WindGustSpeed WindDir9am WindDir3pm  WindSpeed9am  ...  Humidity9am  \\\n1           22.0        ESE        ENE             6  ...         80.0   \n3           26.0        NNE        NNW            11  ...         93.0   \n4           44.0          W         SW            13  ...         69.0   \n5           24.0        ENE         NE             4  ...         86.0   \n6           37.0         NE        NNE            15  ...         72.0   \n\n   Humidity3pm  Pressure9am  Pressure3pm  Cloud9am  Cloud3pm  Temp9am  \\\n1         39.0       1024.1       1019.0       0.0       6.0     11.1   \n3         73.0       1019.3       1018.4       6.0       6.0     13.2   \n4         57.0       1020.4       1022.1       7.0       5.0     15.9   \n5         41.0       1032.0       1029.6       0.0       1.0      6.9   \n6         36.0       1028.9       1024.2       1.0       5.0      8.7   \n\n   Temp3pm  RainToday  RainTomorrow  \n1     19.7          0             0  \n3     17.7          1             1  \n4     16.0          1             1  \n5     15.5          1             0  \n6     17.9          0             0  \n\n[5 rows x 21 columns]",
            "text/html": "<div>\n<style scoped>\n    .dataframe tbody tr th:only-of-type {\n        vertical-align: middle;\n    }\n\n    .dataframe tbody tr th {\n        vertical-align: top;\n    }\n\n    .dataframe thead th {\n        text-align: right;\n    }\n</style>\n<table border=\"1\" class=\"dataframe\">\n  <thead>\n    <tr style=\"text-align: right;\">\n      <th></th>\n      <th>MinTemp</th>\n      <th>MaxTemp</th>\n      <th>Rainfall</th>\n      <th>Evaporation</th>\n      <th>Sunshine</th>\n      <th>WindGustDir</th>\n      <th>WindGustSpeed</th>\n      <th>WindDir9am</th>\n      <th>WindDir3pm</th>\n      <th>WindSpeed9am</th>\n      <th>...</th>\n      <th>Humidity9am</th>\n      <th>Humidity3pm</th>\n      <th>Pressure9am</th>\n      <th>Pressure3pm</th>\n      <th>Cloud9am</th>\n      <th>Cloud3pm</th>\n      <th>Temp9am</th>\n      <th>Temp3pm</th>\n      <th>RainToday</th>\n      <th>RainTomorrow</th>\n    </tr>\n  </thead>\n  <tbody>\n    <tr>\n      <th>1</th>\n      <td>6.4</td>\n      <td>20.7</td>\n      <td>0.0</td>\n      <td>1.8</td>\n      <td>7.0</td>\n      <td>NE</td>\n      <td>22.0</td>\n      <td>ESE</td>\n      <td>ENE</td>\n      <td>6</td>\n      <td>...</td>\n      <td>80.0</td>\n      <td>39.0</td>\n      <td>1024.1</td>\n      <td>1019.0</td>\n      <td>0.0</td>\n      <td>6.0</td>\n      <td>11.1</td>\n      <td>19.7</td>\n      <td>0</td>\n      <td>0</td>\n    </tr>\n    <tr>\n      <th>3</th>\n      <td>9.5</td>\n      <td>19.2</td>\n      <td>1.8</td>\n      <td>1.2</td>\n      <td>4.7</td>\n      <td>W</td>\n      <td>26.0</td>\n      <td>NNE</td>\n      <td>NNW</td>\n      <td>11</td>\n      <td>...</td>\n      <td>93.0</td>\n      <td>73.0</td>\n      <td>1019.3</td>\n      <td>1018.4</td>\n      <td>6.0</td>\n      <td>6.0</td>\n      <td>13.2</td>\n      <td>17.7</td>\n      <td>1</td>\n      <td>1</td>\n    </tr>\n    <tr>\n      <th>4</th>\n      <td>9.5</td>\n      <td>16.4</td>\n      <td>1.8</td>\n      <td>1.4</td>\n      <td>4.9</td>\n      <td>WSW</td>\n      <td>44.0</td>\n      <td>W</td>\n      <td>SW</td>\n      <td>13</td>\n      <td>...</td>\n      <td>69.0</td>\n      <td>57.0</td>\n      <td>1020.4</td>\n      <td>1022.1</td>\n      <td>7.0</td>\n      <td>5.0</td>\n      <td>15.9</td>\n      <td>16.0</td>\n      <td>1</td>\n      <td>1</td>\n    </tr>\n    <tr>\n      <th>5</th>\n      <td>0.7</td>\n      <td>15.9</td>\n      <td>6.8</td>\n      <td>2.4</td>\n      <td>9.3</td>\n      <td>NNE</td>\n      <td>24.0</td>\n      <td>ENE</td>\n      <td>NE</td>\n      <td>4</td>\n      <td>...</td>\n      <td>86.0</td>\n      <td>41.0</td>\n      <td>1032.0</td>\n      <td>1029.6</td>\n      <td>0.0</td>\n      <td>1.0</td>\n      <td>6.9</td>\n      <td>15.5</td>\n      <td>1</td>\n      <td>0</td>\n    </tr>\n    <tr>\n      <th>6</th>\n      <td>0.7</td>\n      <td>18.3</td>\n      <td>0.0</td>\n      <td>0.8</td>\n      <td>9.3</td>\n      <td>N</td>\n      <td>37.0</td>\n      <td>NE</td>\n      <td>NNE</td>\n      <td>15</td>\n      <td>...</td>\n      <td>72.0</td>\n      <td>36.0</td>\n      <td>1028.9</td>\n      <td>1024.2</td>\n      <td>1.0</td>\n      <td>5.0</td>\n      <td>8.7</td>\n      <td>17.9</td>\n      <td>0</td>\n      <td>0</td>\n    </tr>\n  </tbody>\n</table>\n<p>5 rows × 21 columns</p>\n</div>"
          },
          "metadata": {}
        }
      ]
    },
    {
      "cell_type": "code",
      "source": "directions = ['N','NNE','NE','ENE','E','ESE','SE','SSE','S','SSW','SW','WSW','W','WNW','NW','NNW']\nangles = np.arange(0, 2*np.pi,2*np.pi/16)\ndir_ang = dict(zip(directions, angles))\nprint(dir_ang)",
      "metadata": {
        "trusted": true
      },
      "execution_count": 6,
      "outputs": [
        {
          "name": "stdout",
          "text": "{'N': 0.0, 'NNE': 0.39269908169872414, 'NE': 0.7853981633974483, 'ENE': 1.1780972450961724, 'E': 1.5707963267948966, 'ESE': 1.9634954084936207, 'SE': 2.356194490192345, 'SSE': 2.748893571891069, 'S': 3.141592653589793, 'SSW': 3.5342917352885173, 'SW': 3.9269908169872414, 'WSW': 4.319689898685965, 'W': 4.71238898038469, 'WNW': 5.105088062083414, 'NW': 5.497787143782138, 'NNW': 5.890486225480862}\n",
          "output_type": "stream"
        }
      ]
    },
    {
      "cell_type": "code",
      "source": "mappable_attributes = ['WindGustDir','WindDir9am', 'WindDir3pm']\nfor i in mappable_attributes:\n    df[i] = df[i].map(dir_ang)\n    df[i+ '_cos'] = np.cos(df[i])\n    df[i + '_sin'] = np.sin(df[i])\ndf.head()",
      "metadata": {
        "trusted": true
      },
      "execution_count": 7,
      "outputs": [
        {
          "execution_count": 7,
          "output_type": "execute_result",
          "data": {
            "text/plain": "   MinTemp  MaxTemp  Rainfall  Evaporation  Sunshine  WindGustDir  \\\n1      6.4     20.7       0.0          1.8       7.0     0.785398   \n3      9.5     19.2       1.8          1.2       4.7     4.712389   \n4      9.5     16.4       1.8          1.4       4.9     4.319690   \n5      0.7     15.9       6.8          2.4       9.3     0.392699   \n6      0.7     18.3       0.0          0.8       9.3     0.000000   \n\n   WindGustSpeed  WindDir9am  WindDir3pm  WindSpeed9am  ...  Temp9am  Temp3pm  \\\n1           22.0    1.963495    1.178097             6  ...     11.1     19.7   \n3           26.0    0.392699    5.890486            11  ...     13.2     17.7   \n4           44.0    4.712389    3.926991            13  ...     15.9     16.0   \n5           24.0    1.178097    0.785398             4  ...      6.9     15.5   \n6           37.0    0.785398    0.392699            15  ...      8.7     17.9   \n\n   RainToday  RainTomorrow  WindGustDir_cos  WindGustDir_sin  WindDir9am_cos  \\\n1          0             0     7.071068e-01         0.707107   -3.826834e-01   \n3          1             1    -1.836970e-16        -1.000000    9.238795e-01   \n4          1             1    -3.826834e-01        -0.923880   -1.836970e-16   \n5          1             0     9.238795e-01         0.382683    3.826834e-01   \n6          0             0     1.000000e+00         0.000000    7.071068e-01   \n\n   WindDir9am_sin  WindDir3pm_cos  WindDir3pm_sin  \n1        0.923880        0.382683        0.923880  \n3        0.382683        0.923880       -0.382683  \n4       -1.000000       -0.707107       -0.707107  \n5        0.923880        0.707107        0.707107  \n6        0.707107        0.923880        0.382683  \n\n[5 rows x 27 columns]",
            "text/html": "<div>\n<style scoped>\n    .dataframe tbody tr th:only-of-type {\n        vertical-align: middle;\n    }\n\n    .dataframe tbody tr th {\n        vertical-align: top;\n    }\n\n    .dataframe thead th {\n        text-align: right;\n    }\n</style>\n<table border=\"1\" class=\"dataframe\">\n  <thead>\n    <tr style=\"text-align: right;\">\n      <th></th>\n      <th>MinTemp</th>\n      <th>MaxTemp</th>\n      <th>Rainfall</th>\n      <th>Evaporation</th>\n      <th>Sunshine</th>\n      <th>WindGustDir</th>\n      <th>WindGustSpeed</th>\n      <th>WindDir9am</th>\n      <th>WindDir3pm</th>\n      <th>WindSpeed9am</th>\n      <th>...</th>\n      <th>Temp9am</th>\n      <th>Temp3pm</th>\n      <th>RainToday</th>\n      <th>RainTomorrow</th>\n      <th>WindGustDir_cos</th>\n      <th>WindGustDir_sin</th>\n      <th>WindDir9am_cos</th>\n      <th>WindDir9am_sin</th>\n      <th>WindDir3pm_cos</th>\n      <th>WindDir3pm_sin</th>\n    </tr>\n  </thead>\n  <tbody>\n    <tr>\n      <th>1</th>\n      <td>6.4</td>\n      <td>20.7</td>\n      <td>0.0</td>\n      <td>1.8</td>\n      <td>7.0</td>\n      <td>0.785398</td>\n      <td>22.0</td>\n      <td>1.963495</td>\n      <td>1.178097</td>\n      <td>6</td>\n      <td>...</td>\n      <td>11.1</td>\n      <td>19.7</td>\n      <td>0</td>\n      <td>0</td>\n      <td>7.071068e-01</td>\n      <td>0.707107</td>\n      <td>-3.826834e-01</td>\n      <td>0.923880</td>\n      <td>0.382683</td>\n      <td>0.923880</td>\n    </tr>\n    <tr>\n      <th>3</th>\n      <td>9.5</td>\n      <td>19.2</td>\n      <td>1.8</td>\n      <td>1.2</td>\n      <td>4.7</td>\n      <td>4.712389</td>\n      <td>26.0</td>\n      <td>0.392699</td>\n      <td>5.890486</td>\n      <td>11</td>\n      <td>...</td>\n      <td>13.2</td>\n      <td>17.7</td>\n      <td>1</td>\n      <td>1</td>\n      <td>-1.836970e-16</td>\n      <td>-1.000000</td>\n      <td>9.238795e-01</td>\n      <td>0.382683</td>\n      <td>0.923880</td>\n      <td>-0.382683</td>\n    </tr>\n    <tr>\n      <th>4</th>\n      <td>9.5</td>\n      <td>16.4</td>\n      <td>1.8</td>\n      <td>1.4</td>\n      <td>4.9</td>\n      <td>4.319690</td>\n      <td>44.0</td>\n      <td>4.712389</td>\n      <td>3.926991</td>\n      <td>13</td>\n      <td>...</td>\n      <td>15.9</td>\n      <td>16.0</td>\n      <td>1</td>\n      <td>1</td>\n      <td>-3.826834e-01</td>\n      <td>-0.923880</td>\n      <td>-1.836970e-16</td>\n      <td>-1.000000</td>\n      <td>-0.707107</td>\n      <td>-0.707107</td>\n    </tr>\n    <tr>\n      <th>5</th>\n      <td>0.7</td>\n      <td>15.9</td>\n      <td>6.8</td>\n      <td>2.4</td>\n      <td>9.3</td>\n      <td>0.392699</td>\n      <td>24.0</td>\n      <td>1.178097</td>\n      <td>0.785398</td>\n      <td>4</td>\n      <td>...</td>\n      <td>6.9</td>\n      <td>15.5</td>\n      <td>1</td>\n      <td>0</td>\n      <td>9.238795e-01</td>\n      <td>0.382683</td>\n      <td>3.826834e-01</td>\n      <td>0.923880</td>\n      <td>0.707107</td>\n      <td>0.707107</td>\n    </tr>\n    <tr>\n      <th>6</th>\n      <td>0.7</td>\n      <td>18.3</td>\n      <td>0.0</td>\n      <td>0.8</td>\n      <td>9.3</td>\n      <td>0.000000</td>\n      <td>37.0</td>\n      <td>0.785398</td>\n      <td>0.392699</td>\n      <td>15</td>\n      <td>...</td>\n      <td>8.7</td>\n      <td>17.9</td>\n      <td>0</td>\n      <td>0</td>\n      <td>1.000000e+00</td>\n      <td>0.000000</td>\n      <td>7.071068e-01</td>\n      <td>0.707107</td>\n      <td>0.923880</td>\n      <td>0.382683</td>\n    </tr>\n  </tbody>\n</table>\n<p>5 rows × 27 columns</p>\n</div>"
          },
          "metadata": {}
        }
      ]
    },
    {
      "cell_type": "code",
      "source": "df = df.drop(columns = mappable_attributes)\ndf.head()",
      "metadata": {
        "trusted": true
      },
      "execution_count": 8,
      "outputs": [
        {
          "execution_count": 8,
          "output_type": "execute_result",
          "data": {
            "text/plain": "   MinTemp  MaxTemp  Rainfall  Evaporation  Sunshine  WindGustSpeed  \\\n1      6.4     20.7       0.0          1.8       7.0           22.0   \n3      9.5     19.2       1.8          1.2       4.7           26.0   \n4      9.5     16.4       1.8          1.4       4.9           44.0   \n5      0.7     15.9       6.8          2.4       9.3           24.0   \n6      0.7     18.3       0.0          0.8       9.3           37.0   \n\n   WindSpeed9am  WindSpeed3pm  Humidity9am  Humidity3pm  ...  Temp9am  \\\n1             6           9.0         80.0         39.0  ...     11.1   \n3            11           6.0         93.0         73.0  ...     13.2   \n4            13          17.0         69.0         57.0  ...     15.9   \n5             4           7.0         86.0         41.0  ...      6.9   \n6            15          13.0         72.0         36.0  ...      8.7   \n\n   Temp3pm  RainToday  RainTomorrow  WindGustDir_cos  WindGustDir_sin  \\\n1     19.7          0             0     7.071068e-01         0.707107   \n3     17.7          1             1    -1.836970e-16        -1.000000   \n4     16.0          1             1    -3.826834e-01        -0.923880   \n5     15.5          1             0     9.238795e-01         0.382683   \n6     17.9          0             0     1.000000e+00         0.000000   \n\n   WindDir9am_cos  WindDir9am_sin  WindDir3pm_cos  WindDir3pm_sin  \n1   -3.826834e-01        0.923880        0.382683        0.923880  \n3    9.238795e-01        0.382683        0.923880       -0.382683  \n4   -1.836970e-16       -1.000000       -0.707107       -0.707107  \n5    3.826834e-01        0.923880        0.707107        0.707107  \n6    7.071068e-01        0.707107        0.923880        0.382683  \n\n[5 rows x 24 columns]",
            "text/html": "<div>\n<style scoped>\n    .dataframe tbody tr th:only-of-type {\n        vertical-align: middle;\n    }\n\n    .dataframe tbody tr th {\n        vertical-align: top;\n    }\n\n    .dataframe thead th {\n        text-align: right;\n    }\n</style>\n<table border=\"1\" class=\"dataframe\">\n  <thead>\n    <tr style=\"text-align: right;\">\n      <th></th>\n      <th>MinTemp</th>\n      <th>MaxTemp</th>\n      <th>Rainfall</th>\n      <th>Evaporation</th>\n      <th>Sunshine</th>\n      <th>WindGustSpeed</th>\n      <th>WindSpeed9am</th>\n      <th>WindSpeed3pm</th>\n      <th>Humidity9am</th>\n      <th>Humidity3pm</th>\n      <th>...</th>\n      <th>Temp9am</th>\n      <th>Temp3pm</th>\n      <th>RainToday</th>\n      <th>RainTomorrow</th>\n      <th>WindGustDir_cos</th>\n      <th>WindGustDir_sin</th>\n      <th>WindDir9am_cos</th>\n      <th>WindDir9am_sin</th>\n      <th>WindDir3pm_cos</th>\n      <th>WindDir3pm_sin</th>\n    </tr>\n  </thead>\n  <tbody>\n    <tr>\n      <th>1</th>\n      <td>6.4</td>\n      <td>20.7</td>\n      <td>0.0</td>\n      <td>1.8</td>\n      <td>7.0</td>\n      <td>22.0</td>\n      <td>6</td>\n      <td>9.0</td>\n      <td>80.0</td>\n      <td>39.0</td>\n      <td>...</td>\n      <td>11.1</td>\n      <td>19.7</td>\n      <td>0</td>\n      <td>0</td>\n      <td>7.071068e-01</td>\n      <td>0.707107</td>\n      <td>-3.826834e-01</td>\n      <td>0.923880</td>\n      <td>0.382683</td>\n      <td>0.923880</td>\n    </tr>\n    <tr>\n      <th>3</th>\n      <td>9.5</td>\n      <td>19.2</td>\n      <td>1.8</td>\n      <td>1.2</td>\n      <td>4.7</td>\n      <td>26.0</td>\n      <td>11</td>\n      <td>6.0</td>\n      <td>93.0</td>\n      <td>73.0</td>\n      <td>...</td>\n      <td>13.2</td>\n      <td>17.7</td>\n      <td>1</td>\n      <td>1</td>\n      <td>-1.836970e-16</td>\n      <td>-1.000000</td>\n      <td>9.238795e-01</td>\n      <td>0.382683</td>\n      <td>0.923880</td>\n      <td>-0.382683</td>\n    </tr>\n    <tr>\n      <th>4</th>\n      <td>9.5</td>\n      <td>16.4</td>\n      <td>1.8</td>\n      <td>1.4</td>\n      <td>4.9</td>\n      <td>44.0</td>\n      <td>13</td>\n      <td>17.0</td>\n      <td>69.0</td>\n      <td>57.0</td>\n      <td>...</td>\n      <td>15.9</td>\n      <td>16.0</td>\n      <td>1</td>\n      <td>1</td>\n      <td>-3.826834e-01</td>\n      <td>-0.923880</td>\n      <td>-1.836970e-16</td>\n      <td>-1.000000</td>\n      <td>-0.707107</td>\n      <td>-0.707107</td>\n    </tr>\n    <tr>\n      <th>5</th>\n      <td>0.7</td>\n      <td>15.9</td>\n      <td>6.8</td>\n      <td>2.4</td>\n      <td>9.3</td>\n      <td>24.0</td>\n      <td>4</td>\n      <td>7.0</td>\n      <td>86.0</td>\n      <td>41.0</td>\n      <td>...</td>\n      <td>6.9</td>\n      <td>15.5</td>\n      <td>1</td>\n      <td>0</td>\n      <td>9.238795e-01</td>\n      <td>0.382683</td>\n      <td>3.826834e-01</td>\n      <td>0.923880</td>\n      <td>0.707107</td>\n      <td>0.707107</td>\n    </tr>\n    <tr>\n      <th>6</th>\n      <td>0.7</td>\n      <td>18.3</td>\n      <td>0.0</td>\n      <td>0.8</td>\n      <td>9.3</td>\n      <td>37.0</td>\n      <td>15</td>\n      <td>13.0</td>\n      <td>72.0</td>\n      <td>36.0</td>\n      <td>...</td>\n      <td>8.7</td>\n      <td>17.9</td>\n      <td>0</td>\n      <td>0</td>\n      <td>1.000000e+00</td>\n      <td>0.000000</td>\n      <td>7.071068e-01</td>\n      <td>0.707107</td>\n      <td>0.923880</td>\n      <td>0.382683</td>\n    </tr>\n  </tbody>\n</table>\n<p>5 rows × 24 columns</p>\n</div>"
          },
          "metadata": {}
        }
      ]
    },
    {
      "cell_type": "code",
      "source": "y = df['RainTomorrow']\nprint(y)",
      "metadata": {
        "trusted": true
      },
      "execution_count": 9,
      "outputs": [
        {
          "name": "stdout",
          "text": "1       0\n3       1\n4       1\n5       0\n6       0\n       ..\n3188    1\n3189    0\n3190    0\n3191    0\n3192    0\nName: RainTomorrow, Length: 3025, dtype: int64\n",
          "output_type": "stream"
        }
      ]
    },
    {
      "cell_type": "code",
      "source": "X = df.drop(columns = 'RainTomorrow')\nprint(X)",
      "metadata": {
        "trusted": true
      },
      "execution_count": 10,
      "outputs": [
        {
          "name": "stdout",
          "text": "      MinTemp  MaxTemp  Rainfall  Evaporation  Sunshine  WindGustSpeed  \\\n1         6.4     20.7       0.0          1.8       7.0           22.0   \n3         9.5     19.2       1.8          1.2       4.7           26.0   \n4         9.5     16.4       1.8          1.4       4.9           44.0   \n5         0.7     15.9       6.8          2.4       9.3           24.0   \n6         0.7     18.3       0.0          0.8       9.3           37.0   \n...       ...      ...       ...          ...       ...            ...   \n3188     10.3     19.9       0.2          1.8       7.5           37.0   \n3189     13.0     16.8      61.2          3.6       0.0           46.0   \n3190     13.3     18.9       0.4          1.8       6.5           37.0   \n3191     11.5     18.2       0.0          3.8       9.3           30.0   \n3192      6.3     17.0       0.0          1.6       7.9           26.0   \n\n      WindSpeed9am  WindSpeed3pm  Humidity9am  Humidity3pm  ...  Cloud3pm  \\\n1                6           9.0         80.0         39.0  ...       6.0   \n3               11           6.0         93.0         73.0  ...       6.0   \n4               13          17.0         69.0         57.0  ...       5.0   \n5                4           7.0         86.0         41.0  ...       1.0   \n6               15          13.0         72.0         36.0  ...       5.0   \n...            ...           ...          ...          ...  ...       ...   \n3188             9          15.0         89.0         60.0  ...       6.0   \n3189            17          17.0         90.0         75.0  ...       7.0   \n3190            11          11.0         85.0         65.0  ...       6.0   \n3191             9          11.0         62.0         47.0  ...       3.0   \n3192             4          11.0         75.0         49.0  ...       3.0   \n\n      Temp9am  Temp3pm  RainToday  WindGustDir_cos  WindGustDir_sin  \\\n1        11.1     19.7          0     7.071068e-01         0.707107   \n3        13.2     17.7          1    -1.836970e-16        -1.000000   \n4        15.9     16.0          1    -3.826834e-01        -0.923880   \n5         6.9     15.5          1     9.238795e-01         0.382683   \n6         8.7     17.9          0     1.000000e+00         0.000000   \n...       ...      ...        ...              ...              ...   \n3188     13.0     18.5          0     7.071068e-01        -0.707107   \n3189     16.4     15.6          1    -9.238795e-01        -0.382683   \n3190     15.1     18.0          0    -7.071068e-01         0.707107   \n3191     14.0     17.6          0    -7.071068e-01         0.707107   \n3192     11.5     15.6          0     6.123234e-17         1.000000   \n\n      WindDir9am_cos  WindDir9am_sin  WindDir3pm_cos  WindDir3pm_sin  \n1      -3.826834e-01        0.923880        0.382683        0.923880  \n3       9.238795e-01        0.382683        0.923880       -0.382683  \n4      -1.836970e-16       -1.000000       -0.707107       -0.707107  \n5       3.826834e-01        0.923880        0.707107        0.707107  \n6       7.071068e-01        0.707107        0.923880        0.382683  \n...              ...             ...             ...             ...  \n3188    9.238795e-01        0.382683        0.923880       -0.382683  \n3189   -1.836970e-16       -1.000000       -0.707107       -0.707107  \n3190   -7.071068e-01        0.707107       -0.382683        0.923880  \n3191   -3.826834e-01        0.923880       -0.382683        0.923880  \n3192   -7.071068e-01        0.707107       -0.707107        0.707107  \n\n[3025 rows x 23 columns]\n",
          "output_type": "stream"
        }
      ]
    },
    {
      "cell_type": "code",
      "source": "# Training data and Test data split, function from sklearn library\n#What does random_state do? So, test size deals with how much data of the total data set we're allocating to testing. Without random_state, \n# the data proportion will remain the same but not the specific data itself. Each time you run the code, the data for testing and training will differ\n# this affects reproducibility. Hence, setting random_state = 0 makes sure the data for testing and training ends the same every\n# run of the code, even while the percentage allocated remains the same.\nX_train, X_test, y_train, y_test = train_test_split(\n    X,\n    y,\n    test_size = 0.33,\n    random_state = 0\n    )\nprint('X_test:', X_test.shape)\nprint('y_test:', y_test.shape)\nprint('X_train:', X_train.shape)\nprint('y_train:', y_train.shape)",
      "metadata": {
        "trusted": true
      },
      "execution_count": 11,
      "outputs": [
        {
          "name": "stdout",
          "text": "X_test: (999, 23)\ny_test: (999,)\nX_train: (2026, 23)\ny_train: (2026,)\n",
          "output_type": "stream"
        }
      ]
    },
    {
      "cell_type": "code",
      "source": "# feature scaling, we fit the training data and apply transformation on both traing and testing data.\n# Why are we not fitting test data? Because this could lead to data leakage. The model should be unaware of the test data during training phae\n# If it does use fitting on test data, then the performance statistics of the model will be overly optimistic i.e; accuracy will be higher than actual\nscaler = StandardScaler()\nscaler.fit(X_train)\nX_train = scaler.transform(X_train)\nX_test = scaler.transform(X_test)",
      "metadata": {
        "trusted": true
      },
      "execution_count": 14,
      "outputs": []
    },
    {
      "cell_type": "code",
      "source": "# Now, we train the data\nnn = MLPClassifier(\n    hidden_layer_sizes = (50,50),\n    random_state = 0,\n    max_iter = 500\n)\nnn.fit(X_train,y_train)",
      "metadata": {
        "trusted": true
      },
      "execution_count": 16,
      "outputs": [
        {
          "execution_count": 16,
          "output_type": "execute_result",
          "data": {
            "text/plain": "MLPClassifier(hidden_layer_sizes=(50, 50), max_iter=500, random_state=0)",
            "text/html": "<style>#sk-container-id-1 {color: black;}#sk-container-id-1 pre{padding: 0;}#sk-container-id-1 div.sk-toggleable {background-color: white;}#sk-container-id-1 label.sk-toggleable__label {cursor: pointer;display: block;width: 100%;margin-bottom: 0;padding: 0.3em;box-sizing: border-box;text-align: center;}#sk-container-id-1 label.sk-toggleable__label-arrow:before {content: \"▸\";float: left;margin-right: 0.25em;color: #696969;}#sk-container-id-1 label.sk-toggleable__label-arrow:hover:before {color: black;}#sk-container-id-1 div.sk-estimator:hover label.sk-toggleable__label-arrow:before {color: black;}#sk-container-id-1 div.sk-toggleable__content {max-height: 0;max-width: 0;overflow: hidden;text-align: left;background-color: #f0f8ff;}#sk-container-id-1 div.sk-toggleable__content pre {margin: 0.2em;color: black;border-radius: 0.25em;background-color: #f0f8ff;}#sk-container-id-1 input.sk-toggleable__control:checked~div.sk-toggleable__content {max-height: 200px;max-width: 100%;overflow: auto;}#sk-container-id-1 input.sk-toggleable__control:checked~label.sk-toggleable__label-arrow:before {content: \"▾\";}#sk-container-id-1 div.sk-estimator input.sk-toggleable__control:checked~label.sk-toggleable__label {background-color: #d4ebff;}#sk-container-id-1 div.sk-label input.sk-toggleable__control:checked~label.sk-toggleable__label {background-color: #d4ebff;}#sk-container-id-1 input.sk-hidden--visually {border: 0;clip: rect(1px 1px 1px 1px);clip: rect(1px, 1px, 1px, 1px);height: 1px;margin: -1px;overflow: hidden;padding: 0;position: absolute;width: 1px;}#sk-container-id-1 div.sk-estimator {font-family: monospace;background-color: #f0f8ff;border: 1px dotted black;border-radius: 0.25em;box-sizing: border-box;margin-bottom: 0.5em;}#sk-container-id-1 div.sk-estimator:hover {background-color: #d4ebff;}#sk-container-id-1 div.sk-parallel-item::after {content: \"\";width: 100%;border-bottom: 1px solid gray;flex-grow: 1;}#sk-container-id-1 div.sk-label:hover label.sk-toggleable__label {background-color: #d4ebff;}#sk-container-id-1 div.sk-serial::before {content: \"\";position: absolute;border-left: 1px solid gray;box-sizing: border-box;top: 0;bottom: 0;left: 50%;z-index: 0;}#sk-container-id-1 div.sk-serial {display: flex;flex-direction: column;align-items: center;background-color: white;padding-right: 0.2em;padding-left: 0.2em;position: relative;}#sk-container-id-1 div.sk-item {position: relative;z-index: 1;}#sk-container-id-1 div.sk-parallel {display: flex;align-items: stretch;justify-content: center;background-color: white;position: relative;}#sk-container-id-1 div.sk-item::before, #sk-container-id-1 div.sk-parallel-item::before {content: \"\";position: absolute;border-left: 1px solid gray;box-sizing: border-box;top: 0;bottom: 0;left: 50%;z-index: -1;}#sk-container-id-1 div.sk-parallel-item {display: flex;flex-direction: column;z-index: 1;position: relative;background-color: white;}#sk-container-id-1 div.sk-parallel-item:first-child::after {align-self: flex-end;width: 50%;}#sk-container-id-1 div.sk-parallel-item:last-child::after {align-self: flex-start;width: 50%;}#sk-container-id-1 div.sk-parallel-item:only-child::after {width: 0;}#sk-container-id-1 div.sk-dashed-wrapped {border: 1px dashed gray;margin: 0 0.4em 0.5em 0.4em;box-sizing: border-box;padding-bottom: 0.4em;background-color: white;}#sk-container-id-1 div.sk-label label {font-family: monospace;font-weight: bold;display: inline-block;line-height: 1.2em;}#sk-container-id-1 div.sk-label-container {text-align: center;}#sk-container-id-1 div.sk-container {/* jupyter's `normalize.less` sets `[hidden] { display: none; }` but bootstrap.min.css set `[hidden] { display: none !important; }` so we also need the `!important` here to be able to override the default hidden behavior on the sphinx rendered scikit-learn.org. See: https://github.com/scikit-learn/scikit-learn/issues/21755 */display: inline-block !important;position: relative;}#sk-container-id-1 div.sk-text-repr-fallback {display: none;}</style><div id=\"sk-container-id-1\" class=\"sk-top-container\"><div class=\"sk-text-repr-fallback\"><pre>MLPClassifier(hidden_layer_sizes=(50, 50), max_iter=500, random_state=0)</pre><b>In a Jupyter environment, please rerun this cell to show the HTML representation or trust the notebook. <br />On GitHub, the HTML representation is unable to render, please try loading this page with nbviewer.org.</b></div><div class=\"sk-container\" hidden><div class=\"sk-item\"><div class=\"sk-estimator sk-toggleable\"><input class=\"sk-toggleable__control sk-hidden--visually\" id=\"sk-estimator-id-1\" type=\"checkbox\" checked><label for=\"sk-estimator-id-1\" class=\"sk-toggleable__label sk-toggleable__label-arrow\">MLPClassifier</label><div class=\"sk-toggleable__content\"><pre>MLPClassifier(hidden_layer_sizes=(50, 50), max_iter=500, random_state=0)</pre></div></div></div></div></div>"
          },
          "metadata": {}
        }
      ]
    },
    {
      "cell_type": "code",
      "source": "#Now we find the accuracy of the model we just trained. Note: testing data is seperate from training data and is\n# only used after training the NN. Once trained, we take the testing data and input it into the trained model. It produces an array, y_pred\n# that contains predicted values based on X_test\ny_pred = nn.predict(X_test)\nscore = accuracy_score(y_pred,y_test)\nprint(\"The accuracy of the model is:\",round((score*100),2), \"%\")",
      "metadata": {
        "trusted": true
      },
      "execution_count": 26,
      "outputs": [
        {
          "name": "stdout",
          "text": "The accuracy of the model is: 89.29 %\n",
          "output_type": "stream"
        }
      ]
    },
    {
      "cell_type": "code",
      "source": "# Can we improve the accuracy by using different combinations of hidden layers? To vary one attribute and see the results while keeping other attributes\n#unchanged, we can use grid search function.\"Cv = \" is cross validation parameter. How much divisions of the dataset do you want for \n# your grid search ( all these divisions are going to be evaluated and each time they're going to have different training and test data)\np = {\n 'hidden_layer_sizes' : (\n     (10,5),(10,), (20, 6), (100, 10), (5,)\n )\n}\nnn = MLPClassifier (\n    max_iter = 5000,\n    random_state = 0\n)\ngs = GridSearchCV(nn, p, cv = 3)\ngs.fit(X_train,y_train)",
      "metadata": {
        "trusted": true
      },
      "execution_count": 30,
      "outputs": [
        {
          "execution_count": 30,
          "output_type": "execute_result",
          "data": {
            "text/plain": "GridSearchCV(cv=3, estimator=MLPClassifier(max_iter=5000, random_state=0),\n             param_grid={'hidden_layer_sizes': ((10, 5), (10,), (20, 6),\n                                                (100, 10), (5,))})",
            "text/html": "<style>#sk-container-id-2 {color: black;}#sk-container-id-2 pre{padding: 0;}#sk-container-id-2 div.sk-toggleable {background-color: white;}#sk-container-id-2 label.sk-toggleable__label {cursor: pointer;display: block;width: 100%;margin-bottom: 0;padding: 0.3em;box-sizing: border-box;text-align: center;}#sk-container-id-2 label.sk-toggleable__label-arrow:before {content: \"▸\";float: left;margin-right: 0.25em;color: #696969;}#sk-container-id-2 label.sk-toggleable__label-arrow:hover:before {color: black;}#sk-container-id-2 div.sk-estimator:hover label.sk-toggleable__label-arrow:before {color: black;}#sk-container-id-2 div.sk-toggleable__content {max-height: 0;max-width: 0;overflow: hidden;text-align: left;background-color: #f0f8ff;}#sk-container-id-2 div.sk-toggleable__content pre {margin: 0.2em;color: black;border-radius: 0.25em;background-color: #f0f8ff;}#sk-container-id-2 input.sk-toggleable__control:checked~div.sk-toggleable__content {max-height: 200px;max-width: 100%;overflow: auto;}#sk-container-id-2 input.sk-toggleable__control:checked~label.sk-toggleable__label-arrow:before {content: \"▾\";}#sk-container-id-2 div.sk-estimator input.sk-toggleable__control:checked~label.sk-toggleable__label {background-color: #d4ebff;}#sk-container-id-2 div.sk-label input.sk-toggleable__control:checked~label.sk-toggleable__label {background-color: #d4ebff;}#sk-container-id-2 input.sk-hidden--visually {border: 0;clip: rect(1px 1px 1px 1px);clip: rect(1px, 1px, 1px, 1px);height: 1px;margin: -1px;overflow: hidden;padding: 0;position: absolute;width: 1px;}#sk-container-id-2 div.sk-estimator {font-family: monospace;background-color: #f0f8ff;border: 1px dotted black;border-radius: 0.25em;box-sizing: border-box;margin-bottom: 0.5em;}#sk-container-id-2 div.sk-estimator:hover {background-color: #d4ebff;}#sk-container-id-2 div.sk-parallel-item::after {content: \"\";width: 100%;border-bottom: 1px solid gray;flex-grow: 1;}#sk-container-id-2 div.sk-label:hover label.sk-toggleable__label {background-color: #d4ebff;}#sk-container-id-2 div.sk-serial::before {content: \"\";position: absolute;border-left: 1px solid gray;box-sizing: border-box;top: 0;bottom: 0;left: 50%;z-index: 0;}#sk-container-id-2 div.sk-serial {display: flex;flex-direction: column;align-items: center;background-color: white;padding-right: 0.2em;padding-left: 0.2em;position: relative;}#sk-container-id-2 div.sk-item {position: relative;z-index: 1;}#sk-container-id-2 div.sk-parallel {display: flex;align-items: stretch;justify-content: center;background-color: white;position: relative;}#sk-container-id-2 div.sk-item::before, #sk-container-id-2 div.sk-parallel-item::before {content: \"\";position: absolute;border-left: 1px solid gray;box-sizing: border-box;top: 0;bottom: 0;left: 50%;z-index: -1;}#sk-container-id-2 div.sk-parallel-item {display: flex;flex-direction: column;z-index: 1;position: relative;background-color: white;}#sk-container-id-2 div.sk-parallel-item:first-child::after {align-self: flex-end;width: 50%;}#sk-container-id-2 div.sk-parallel-item:last-child::after {align-self: flex-start;width: 50%;}#sk-container-id-2 div.sk-parallel-item:only-child::after {width: 0;}#sk-container-id-2 div.sk-dashed-wrapped {border: 1px dashed gray;margin: 0 0.4em 0.5em 0.4em;box-sizing: border-box;padding-bottom: 0.4em;background-color: white;}#sk-container-id-2 div.sk-label label {font-family: monospace;font-weight: bold;display: inline-block;line-height: 1.2em;}#sk-container-id-2 div.sk-label-container {text-align: center;}#sk-container-id-2 div.sk-container {/* jupyter's `normalize.less` sets `[hidden] { display: none; }` but bootstrap.min.css set `[hidden] { display: none !important; }` so we also need the `!important` here to be able to override the default hidden behavior on the sphinx rendered scikit-learn.org. See: https://github.com/scikit-learn/scikit-learn/issues/21755 */display: inline-block !important;position: relative;}#sk-container-id-2 div.sk-text-repr-fallback {display: none;}</style><div id=\"sk-container-id-2\" class=\"sk-top-container\"><div class=\"sk-text-repr-fallback\"><pre>GridSearchCV(cv=3, estimator=MLPClassifier(max_iter=5000, random_state=0),\n             param_grid={&#x27;hidden_layer_sizes&#x27;: ((10, 5), (10,), (20, 6),\n                                                (100, 10), (5,))})</pre><b>In a Jupyter environment, please rerun this cell to show the HTML representation or trust the notebook. <br />On GitHub, the HTML representation is unable to render, please try loading this page with nbviewer.org.</b></div><div class=\"sk-container\" hidden><div class=\"sk-item sk-dashed-wrapped\"><div class=\"sk-label-container\"><div class=\"sk-label sk-toggleable\"><input class=\"sk-toggleable__control sk-hidden--visually\" id=\"sk-estimator-id-2\" type=\"checkbox\" ><label for=\"sk-estimator-id-2\" class=\"sk-toggleable__label sk-toggleable__label-arrow\">GridSearchCV</label><div class=\"sk-toggleable__content\"><pre>GridSearchCV(cv=3, estimator=MLPClassifier(max_iter=5000, random_state=0),\n             param_grid={&#x27;hidden_layer_sizes&#x27;: ((10, 5), (10,), (20, 6),\n                                                (100, 10), (5,))})</pre></div></div></div><div class=\"sk-parallel\"><div class=\"sk-parallel-item\"><div class=\"sk-item\"><div class=\"sk-label-container\"><div class=\"sk-label sk-toggleable\"><input class=\"sk-toggleable__control sk-hidden--visually\" id=\"sk-estimator-id-3\" type=\"checkbox\" ><label for=\"sk-estimator-id-3\" class=\"sk-toggleable__label sk-toggleable__label-arrow\">estimator: MLPClassifier</label><div class=\"sk-toggleable__content\"><pre>MLPClassifier(max_iter=5000, random_state=0)</pre></div></div></div><div class=\"sk-serial\"><div class=\"sk-item\"><div class=\"sk-estimator sk-toggleable\"><input class=\"sk-toggleable__control sk-hidden--visually\" id=\"sk-estimator-id-4\" type=\"checkbox\" ><label for=\"sk-estimator-id-4\" class=\"sk-toggleable__label sk-toggleable__label-arrow\">MLPClassifier</label><div class=\"sk-toggleable__content\"><pre>MLPClassifier(max_iter=5000, random_state=0)</pre></div></div></div></div></div></div></div></div></div></div>"
          },
          "metadata": {}
        }
      ]
    },
    {
      "cell_type": "code",
      "source": "print(gs.cv_results_['params'])\nprint(gs.cv_results_['mean_test_score'])",
      "metadata": {
        "trusted": true
      },
      "execution_count": 32,
      "outputs": [
        {
          "name": "stdout",
          "text": "[{'hidden_layer_sizes': (10, 5)}, {'hidden_layer_sizes': (10,)}, {'hidden_layer_sizes': (20, 6)}, {'hidden_layer_sizes': (100, 10)}, {'hidden_layer_sizes': (5,)}]\n[0.88549127 0.89487179 0.87956461 0.88894587 0.90621886]\n",
          "output_type": "stream"
        }
      ]
    },
    {
      "cell_type": "code",
      "source": "best_nn = gs.best_estimator_\ny_pred = best_nn.predict(X_test)\nbest_acc = accuracy_score(y_pred,y_test)\nprint(\"The new improved accuracy of the model using GridSearch is:\", round((best_acc*100),2), \"%\")",
      "metadata": {
        "trusted": true
      },
      "execution_count": 37,
      "outputs": [
        {
          "name": "stdout",
          "text": "The new improved accuracy of the model using GridSearch is: 90.29 %\n",
          "output_type": "stream"
        }
      ]
    },
    {
      "cell_type": "code",
      "source": "",
      "metadata": {},
      "execution_count": null,
      "outputs": []
    }
  ]
}